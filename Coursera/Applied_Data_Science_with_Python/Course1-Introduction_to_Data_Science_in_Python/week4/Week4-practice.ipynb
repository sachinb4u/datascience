{
 "cells": [
  {
   "cell_type": "code",
   "execution_count": 6,
   "metadata": {},
   "outputs": [],
   "source": [
    "import numpy as np\n",
    "import pandas as pd\n",
    "import matplotlib.pyplot as plt\n",
    "from scipy import stats"
   ]
  },
  {
   "cell_type": "markdown",
   "metadata": {},
   "source": [
    "## Binomial & Normal Distribution"
   ]
  },
  {
   "cell_type": "code",
   "execution_count": 3,
   "metadata": {},
   "outputs": [
    {
     "data": {
      "text/plain": [
       "0"
      ]
     },
     "execution_count": 3,
     "metadata": {},
     "output_type": "execute_result"
    }
   ],
   "source": [
    "# Gives sample value with probability of 0.5 \n",
    "np.random.binomial(1, 0.5)"
   ]
  },
  {
   "cell_type": "code",
   "execution_count": 61,
   "metadata": {},
   "outputs": [
    {
     "data": {
      "text/plain": [
       "array([ 4,  7,  4,  5,  6,  6,  4,  3,  2,  8,  4,  6,  6,  5,  6,  6,  4,\n",
       "        5,  4,  5,  4,  4,  6,  4,  3,  3,  7,  7,  5,  3,  5,  7,  4,  4,\n",
       "        7,  3,  7,  6,  6,  4,  6,  5,  5,  5,  5,  5,  3,  6,  5,  5,  4,\n",
       "        6,  7,  8,  4,  5,  6,  5,  4,  4,  4,  4,  6,  3,  4,  7,  5,  5,\n",
       "        6,  5,  6,  4,  5,  4,  3,  5,  3,  5,  8,  3,  7,  5,  6,  3,  6,\n",
       "        4,  4,  8,  5,  5,  6,  7,  4,  7,  6,  5,  6,  2,  3,  9,  6,  6,\n",
       "        5,  4,  4,  8,  4,  6,  5,  5,  4,  7,  6,  5,  6,  4,  5,  1,  4,\n",
       "        6,  6,  7,  7,  6,  4,  6,  4,  6,  3,  7,  3,  4,  4,  5,  5,  6,\n",
       "        9,  5,  6,  3,  4,  4,  6,  4,  3,  8,  7,  5,  5,  6,  7,  3,  7,\n",
       "        6,  5,  6,  6,  4,  6,  5,  5,  6,  4,  5,  5,  4,  4,  5,  2,  5,\n",
       "        7,  9,  5,  8,  5,  4,  3,  6,  5,  7,  5,  4,  7,  6,  1,  5,  4,\n",
       "        4,  7,  7,  5,  5,  5,  5,  6,  5,  7,  5,  7,  5,  5,  6,  5,  6,\n",
       "        4,  6,  5,  6,  3,  4,  3,  3,  6,  8,  4,  6,  5,  5,  4,  6,  5,\n",
       "        3,  6,  8,  8,  6,  5,  4,  3,  7,  3,  3,  7,  5,  4,  5,  3,  7,\n",
       "        6,  3,  5,  7,  3,  4,  6,  7,  5,  5,  6,  1,  4,  1,  7,  7,  5,\n",
       "        6,  5,  5,  3,  4,  9,  2,  5,  5,  5,  6,  2,  5,  4,  5,  5,  5,\n",
       "        2,  6,  5,  6,  5,  3,  6,  7,  5,  6,  5,  6,  3,  7,  5,  6,  7,\n",
       "        6,  7,  7,  6,  4,  8,  5,  5,  5,  4,  2,  1,  6,  6,  3,  7,  6,\n",
       "        3,  6,  5,  5,  7,  4,  2,  4,  5,  4,  5,  5,  2,  2,  7,  4,  5,\n",
       "        3,  6,  5,  5,  4,  3,  5,  8,  4,  6,  5,  3,  4,  3,  4,  4,  4,\n",
       "        5,  5,  6,  4,  5,  4,  4,  8,  5,  6,  2,  7,  6,  8,  4,  5,  7,\n",
       "        4,  1,  6,  4,  4,  3,  5,  5,  7,  4,  4,  8,  4,  4,  5,  5,  2,\n",
       "        4,  6,  3,  8,  5,  6,  4,  5,  4,  7,  5,  5,  3,  4,  5,  6,  5,\n",
       "        5,  3,  3,  4,  2,  5,  4,  4,  4,  7,  6,  5,  3,  4,  5,  7,  4,\n",
       "        5,  6,  6,  5,  3,  3,  2,  6,  4,  7,  6,  5,  5,  8,  4,  5,  6,\n",
       "        6,  5,  8,  3,  6,  6,  6,  3,  4,  4,  4,  4,  3,  5,  6,  5,  6,\n",
       "        2,  5,  4,  4,  6,  5,  5,  5,  6,  5,  3,  6,  6,  5,  5,  5,  6,\n",
       "        7,  8,  5,  3,  6,  9,  7,  5,  6,  7,  4,  7,  5,  3,  7,  5,  9,\n",
       "        4,  5,  6,  7,  3,  2,  4,  5,  4,  2,  2,  1,  6,  5,  3,  6,  5,\n",
       "        9,  5,  7,  8,  6,  6,  7,  7,  4,  6,  7,  5,  7,  3,  5,  4,  3,\n",
       "        6,  3,  2,  5,  3,  2,  4,  5,  2,  4,  4,  3,  5,  3,  5,  6,  6,\n",
       "        7,  9,  6,  3,  7,  5,  5,  7,  4,  6,  3,  3,  4,  1,  5,  4,  7,\n",
       "        5,  3,  3,  7,  4,  4,  4,  7,  8,  6,  8,  8,  4,  1,  9,  3,  7,\n",
       "        6,  8,  4,  5,  4,  3,  7,  4,  4,  7,  3,  4,  5,  5,  4,  5,  6,\n",
       "        3,  6,  7,  6,  7,  6,  3,  6,  4,  8,  2,  3,  3,  4,  5,  4,  1,\n",
       "        6,  2,  3,  4,  6,  3,  8,  2,  8,  5,  4,  5,  8,  9,  5,  6,  5,\n",
       "        6,  4,  2,  4,  4,  4,  4,  5,  4,  4,  5,  6,  4,  7,  5,  7,  3,\n",
       "        4,  5,  7,  6,  3,  5,  4,  5,  3,  4,  9,  5,  5,  5,  4,  4,  6,\n",
       "        3,  4,  5,  4,  6,  5,  7,  5,  5,  4,  6,  6,  5,  3,  4,  7,  4,\n",
       "        6,  4,  6,  4,  7,  6,  5,  4,  7,  7,  6,  4,  8, 10,  3,  4,  5,\n",
       "        5,  6,  5,  3,  2,  4,  7,  5,  7,  6,  4,  6,  3,  4,  6,  4,  5,\n",
       "        7,  3,  2,  5,  5,  8,  5,  7,  6,  5,  4,  6,  6,  5,  2,  5,  4,\n",
       "        7,  6,  3,  5,  4,  6,  7,  7,  4,  5,  4,  8,  4,  5,  4,  7,  5,\n",
       "        6,  6,  6,  6,  6,  6,  4,  4,  7,  3,  4,  7,  8,  4,  6,  7,  2,\n",
       "        5,  4,  4,  8,  5,  9,  3,  8,  4,  5,  3,  7,  8,  4,  4,  5,  5,\n",
       "        6,  3,  5,  6,  4,  6,  6,  5,  4,  5,  3,  6,  3,  3,  5,  8,  7,\n",
       "        5,  6,  7,  5,  7,  5,  6,  6,  6,  8,  4,  5,  6,  6,  7,  6,  6,\n",
       "        6,  7,  5,  7,  5,  4,  7,  4,  5,  5,  6,  4,  8,  4,  6,  5,  4,\n",
       "        4,  1,  3,  6,  5,  3,  5,  3,  4,  6,  3,  5,  5,  6,  4,  4,  4,\n",
       "        6,  4,  6,  5,  6,  6,  4,  7,  3,  6,  5,  6,  5,  6,  5,  7,  4,\n",
       "        7,  3,  8,  5,  2,  3,  3,  7,  8,  4,  6,  3,  6,  5,  3,  6,  6,\n",
       "        6,  5,  5,  5,  4,  4,  6,  3,  6,  5,  6,  7,  4,  6,  3,  5,  5,\n",
       "        7,  7,  5,  2,  5,  5,  5,  7,  7,  4,  6,  5,  5,  1,  6,  2,  4,\n",
       "        4,  6,  3,  3,  5,  8,  8,  4,  5,  4,  4,  7,  8,  3,  4,  8,  4,\n",
       "        4,  3,  4,  6,  4,  5,  7,  5,  4,  4,  7,  6,  6,  6,  5,  5,  4,\n",
       "        7,  5,  4,  6,  9,  6,  5,  8,  6,  4,  4,  6,  4,  3,  3,  5,  5,\n",
       "        8,  7,  5,  6,  5,  5,  3,  5,  4,  6,  7,  6,  5,  5,  5,  6,  3,\n",
       "        7,  3,  0,  5,  7,  5,  6,  6,  5,  6,  4,  5,  3,  5,  6,  6,  7,\n",
       "        5,  3,  3,  7,  6,  8,  7,  3,  4,  7,  4,  5,  4,  5])"
      ]
     },
     "execution_count": 61,
     "metadata": {},
     "output_type": "execute_result"
    }
   ],
   "source": [
    "n, p = 10, .5  # number of trials, probability of each trial\n",
    "\n",
    "np.random.binomial(n, p, 1000)"
   ]
  },
  {
   "cell_type": "markdown",
   "metadata": {},
   "source": [
    "### A real world example. A company drills 9 wild-cat oil exploration wells, each with an estimated probability of success of 0.1. All nine wells fail. What is the probability of that happening?\n",
    "\n",
    "### Let’s do 20,000 trials of the model, and count the number that generate zero positive results."
   ]
  },
  {
   "cell_type": "code",
   "execution_count": 73,
   "metadata": {},
   "outputs": [
    {
     "data": {
      "text/plain": [
       "0.38745"
      ]
     },
     "execution_count": 73,
     "metadata": {},
     "output_type": "execute_result"
    }
   ],
   "source": [
    "num_of_drills, probability_of_success, trials = 9, 0.1, 20000\n",
    "\n",
    "sum(np.random.binomial(num_of_drills, probability_of_success, trials)==0)/trials\n",
    "\n",
    "# answer thre is~ 38% chance"
   ]
  },
  {
   "cell_type": "code",
   "execution_count": 115,
   "metadata": {},
   "outputs": [
    {
     "data": {
      "text/plain": [
       "(array([  38.,  330., 1415., 3242., 4901., 4949., 3259., 1477.,  346.,\n",
       "          43.]),\n",
       " array([0. , 0.9, 1.8, 2.7, 3.6, 4.5, 5.4, 6.3, 7.2, 8.1, 9. ]),\n",
       " <a list of 10 Patch objects>)"
      ]
     },
     "execution_count": 115,
     "metadata": {},
     "output_type": "execute_result"
    },
    {
     "data": {
      "image/png": "[encoded data removed]",
      "text/plain": [
       "<matplotlib.figure.Figure at 0x10d61210>"
      ]
     },
     "metadata": {},
     "output_type": "display_data"
    }
   ],
   "source": [
    "x = np.random.binomial(9, 0.5, 20000)\n",
    "\n",
    "\n",
    "\n",
    "\n",
    "# plt.plot(x)\n",
    "plt.hist(x)\n",
    "# x"
   ]
  },
  {
   "cell_type": "code",
   "execution_count": 134,
   "metadata": {},
   "outputs": [
    {
     "data": {
      "text/plain": [
       "2.014843404491367"
      ]
     },
     "execution_count": 134,
     "metadata": {},
     "output_type": "execute_result"
    }
   ],
   "source": [
    "chi_squared_df2 = np.random.chisquare(2, size=10000)\n",
    "\n",
    "stats.skew(chi_squared_df2)"
   ]
  },
  {
   "cell_type": "code",
   "execution_count": 135,
   "metadata": {},
   "outputs": [
    {
     "data": {
      "text/plain": [
       "1.25578006612973"
      ]
     },
     "execution_count": 135,
     "metadata": {},
     "output_type": "execute_result"
    }
   ],
   "source": [
    "chi_squared_df5 = np.random.chisquare(5, size=10000)\n",
    "stats.skew(chi_squared_df5)"
   ]
  },
  {
   "cell_type": "code",
   "execution_count": 138,
   "metadata": {
    "scrolled": true
   },
   "outputs": [
    {
     "data": {
      "text/plain": [
       "<function matplotlib.pyplot.show>"
      ]
     },
     "execution_count": 138,
     "metadata": {},
     "output_type": "execute_result"
    },
    {
     "data": {
      "image/png": "[encoded data removed]",
      "text/plain": [
       "<matplotlib.figure.Figure at 0x230c4bf0>"
      ]
     },
     "metadata": {},
     "output_type": "display_data"
    }
   ],
   "source": [
    "plt.hist(chi_squared_df5 )\n",
    "plt.show\n"
   ]
  },
  {
   "cell_type": "code",
   "execution_count": 137,
   "metadata": {},
   "outputs": [
    {
     "data": {
      "text/plain": [
       "<matplotlib.legend.Legend at 0x230e1290>"
      ]
     },
     "execution_count": 137,
     "metadata": {},
     "output_type": "execute_result"
    },
    {
     "data": {
      "image/png": "[encoded data removed]",
      "text/plain": [
       "<matplotlib.figure.Figure at 0x2307e1d0>"
      ]
     },
     "metadata": {},
     "output_type": "display_data"
    }
   ],
   "source": [
    "output = plt.hist([chi_squared_df2,chi_squared_df5], bins=50, histtype='step', \n",
    "                  label=['2 degrees of freedom','5 degrees of freedom'])\n",
    "plt.legend(loc='upper right')"
   ]
  },
  {
   "cell_type": "code",
   "execution_count": 86,
   "metadata": {},
   "outputs": [
    {
     "data": {
      "text/plain": [
       "array([7, 3, 5, 7, 5, 1, 7, 8, 6, 3, 6, 5, 5, 7, 4, 6, 3, 6, 3, 5, 3, 6,\n",
       "       3, 4, 5, 3, 3, 4, 6, 3, 5, 6, 7, 6, 7, 4, 7, 6, 5, 4, 4, 2, 4, 6,\n",
       "       6, 4, 6, 5, 3, 4, 5, 2, 5, 6, 6, 4, 6, 7, 6, 6, 5, 5, 5, 5, 5, 4,\n",
       "       7, 5, 4, 5, 7, 6, 5, 4, 5, 7, 7, 4, 6, 3, 7, 7, 5, 8, 6, 5, 5, 3,\n",
       "       6, 5, 6, 6, 5, 7, 7, 3, 6, 6, 6, 7])"
      ]
     },
     "execution_count": 86,
     "metadata": {},
     "output_type": "execute_result"
    }
   ],
   "source": [
    "# Gives 100 sample values upto 10 with probability of 0.5 \n",
    "np.random.binomial(10, 0.5, 100)"
   ]
  },
  {
   "cell_type": "code",
   "execution_count": 23,
   "metadata": {},
   "outputs": [
    {
     "data": {
      "text/plain": [
       "521"
      ]
     },
     "execution_count": 23,
     "metadata": {},
     "output_type": "execute_result"
    }
   ],
   "source": [
    "np.random.binomial(1000, 0.5"
   ]
  },
  {
   "cell_type": "markdown",
   "metadata": {},
   "source": [
    "Formula for standard deviation\n",
    "$$\\sqrt{\\frac{1}{N} \\sum_{i=1}^N (x_i - \\overline{x})^2}$$"
   ]
  },
  {
   "cell_type": "code",
   "execution_count": 7,
   "metadata": {},
   "outputs": [
    {
     "name": "stdout",
     "output_type": "stream",
     "text": [
      "0.9516535182908554\n"
     ]
    },
    {
     "data": {
      "text/plain": [
       "(array([ 3., 10., 17., 21., 21., 16.,  7.,  3.,  0.,  2.]),\n",
       " array([-1.41233823, -0.88551051, -0.35868279,  0.16814493,  0.69497266,\n",
       "         1.22180038,  1.7486281 ,  2.27545582,  2.80228355,  3.32911127,\n",
       "         3.85593899]),\n",
       " <a list of 10 Patch objects>)"
      ]
     },
     "execution_count": 7,
     "metadata": {},
     "output_type": "execute_result"
    },
    {
     "data": {
      "image/png": "[encoded data removed]",
      "text/plain": [
       "<matplotlib.figure.Figure at 0x85fc210>"
      ]
     },
     "metadata": {},
     "output_type": "display_data"
    }
   ],
   "source": [
    "distribution = np.random.normal(0.75, size=100)\n",
    "\n",
    "print(np.std(distribution))\n",
    "\n",
    "plt.hist(distribution)\n",
    "# plt.show()"
   ]
  },
  {
   "cell_type": "code",
   "execution_count": 8,
   "metadata": {},
   "outputs": [
    {
     "data": {
      "text/plain": [
       "0.9122475225509059"
      ]
     },
     "execution_count": 8,
     "metadata": {},
     "output_type": "execute_result"
    }
   ],
   "source": [
    "import scipy.stats as stats\n",
    "stats.kurtosis(distribution)"
   ]
  },
  {
   "cell_type": "code",
   "execution_count": 9,
   "metadata": {},
   "outputs": [
    {
     "data": {
      "text/plain": [
       "0.49658301671136124"
      ]
     },
     "execution_count": 9,
     "metadata": {},
     "output_type": "execute_result"
    }
   ],
   "source": [
    "stats.skew(distribution)"
   ]
  },
  {
   "cell_type": "markdown",
   "metadata": {},
   "source": [
    "## Uniform Distribution"
   ]
  },
  {
   "cell_type": "code",
   "execution_count": 10,
   "metadata": {},
   "outputs": [
    {
     "data": {
      "text/plain": [
       "True"
      ]
     },
     "execution_count": 10,
     "metadata": {},
     "output_type": "execute_result"
    }
   ],
   "source": [
    "s = np.random.uniform(-1, 0, 1000)\n",
    "\n",
    "np.all(s >= -1) & np.all(s < 0)\n",
    "\n"
   ]
  },
  {
   "cell_type": "code",
   "execution_count": 11,
   "metadata": {},
   "outputs": [
    {
     "data": {
      "image/png": "[encoded data removed]",
      "text/plain": [
       "<matplotlib.figure.Figure at 0x85fcdd0>"
      ]
     },
     "metadata": {},
     "output_type": "display_data"
    }
   ],
   "source": [
    "\n",
    "count, bins, ignored = plt.hist(s, 15, normed=True)\n",
    "\n",
    "plt.plot(bins, np.ones_like(bins), linewidth=2, color='r')\n",
    "plt.show()"
   ]
  },
  {
   "cell_type": "markdown",
   "metadata": {},
   "source": [
    "## Hypothesis Testing"
   ]
  },
  {
   "cell_type": "code",
   "execution_count": 12,
   "metadata": {},
   "outputs": [
    {
     "data": {
      "text/html": [
       "<div>\n",
       "<style scoped>\n",
       "    .dataframe tbody tr th:only-of-type {\n",
       "        vertical-align: middle;\n",
       "    }\n",
       "\n",
       "    .dataframe tbody tr th {\n",
       "        vertical-align: top;\n",
       "    }\n",
       "\n",
       "    .dataframe thead th {\n",
       "        text-align: right;\n",
       "    }\n",
       "</style>\n",
       "<table border=\"1\" class=\"dataframe\">\n",
       "  <thead>\n",
       "    <tr style=\"text-align: right;\">\n",
       "      <th></th>\n",
       "      <th>student_id</th>\n",
       "      <th>assignment1_grade</th>\n",
       "      <th>assignment1_submission</th>\n",
       "      <th>assignment2_grade</th>\n",
       "      <th>assignment2_submission</th>\n",
       "      <th>assignment3_grade</th>\n",
       "      <th>assignment3_submission</th>\n",
       "      <th>assignment4_grade</th>\n",
       "      <th>assignment4_submission</th>\n",
       "      <th>assignment5_grade</th>\n",
       "      <th>assignment5_submission</th>\n",
       "      <th>assignment6_grade</th>\n",
       "      <th>assignment6_submission</th>\n",
       "    </tr>\n",
       "  </thead>\n",
       "  <tbody>\n",
       "    <tr>\n",
       "      <th>0</th>\n",
       "      <td>B73F2C11-70F0-E37D-8B10-1D20AFED50B1</td>\n",
       "      <td>92.733946</td>\n",
       "      <td>2015-11-02 06:55:34.282000000</td>\n",
       "      <td>83.030552</td>\n",
       "      <td>2015-11-09 02:22:58.938000000</td>\n",
       "      <td>67.164441</td>\n",
       "      <td>2015-11-12 08:58:33.998000000</td>\n",
       "      <td>53.011553</td>\n",
       "      <td>2015-11-16 01:21:24.663000000</td>\n",
       "      <td>47.710398</td>\n",
       "      <td>2015-11-20 13:24:59.692000000</td>\n",
       "      <td>38.168318</td>\n",
       "      <td>2015-11-22 18:31:15.934000000</td>\n",
       "    </tr>\n",
       "    <tr>\n",
       "      <th>1</th>\n",
       "      <td>98A0FAE0-A19A-13D2-4BB5-CFBFD94031D1</td>\n",
       "      <td>86.790821</td>\n",
       "      <td>2015-11-29 14:57:44.429000000</td>\n",
       "      <td>86.290821</td>\n",
       "      <td>2015-12-06 17:41:18.449000000</td>\n",
       "      <td>69.772657</td>\n",
       "      <td>2015-12-10 08:54:55.904000000</td>\n",
       "      <td>55.098125</td>\n",
       "      <td>2015-12-13 17:32:30.941000000</td>\n",
       "      <td>49.588313</td>\n",
       "      <td>2015-12-19 23:26:39.285000000</td>\n",
       "      <td>44.629482</td>\n",
       "      <td>2015-12-21 17:07:24.275000000</td>\n",
       "    </tr>\n",
       "    <tr>\n",
       "      <th>2</th>\n",
       "      <td>D0F62040-CEB0-904C-F563-2F8620916C4E</td>\n",
       "      <td>85.512541</td>\n",
       "      <td>2016-01-09 05:36:02.389000000</td>\n",
       "      <td>85.512541</td>\n",
       "      <td>2016-01-09 06:39:44.416000000</td>\n",
       "      <td>68.410033</td>\n",
       "      <td>2016-01-15 20:22:45.882000000</td>\n",
       "      <td>54.728026</td>\n",
       "      <td>2016-01-11 12:41:50.749000000</td>\n",
       "      <td>49.255224</td>\n",
       "      <td>2016-01-11 17:31:12.489000000</td>\n",
       "      <td>44.329701</td>\n",
       "      <td>2016-01-17 16:24:42.765000000</td>\n",
       "    </tr>\n",
       "    <tr>\n",
       "      <th>3</th>\n",
       "      <td>FFDF2B2C-F514-EF7F-6538-A6A53518E9DC</td>\n",
       "      <td>86.030665</td>\n",
       "      <td>2016-04-30 06:50:39.801000000</td>\n",
       "      <td>68.824532</td>\n",
       "      <td>2016-04-30 17:20:38.727000000</td>\n",
       "      <td>61.942079</td>\n",
       "      <td>2016-05-12 07:47:16.326000000</td>\n",
       "      <td>49.553663</td>\n",
       "      <td>2016-05-07 16:09:20.485000000</td>\n",
       "      <td>49.553663</td>\n",
       "      <td>2016-05-24 12:51:18.016000000</td>\n",
       "      <td>44.598297</td>\n",
       "      <td>2016-05-26 08:09:12.058000000</td>\n",
       "    </tr>\n",
       "    <tr>\n",
       "      <th>4</th>\n",
       "      <td>5ECBEEB6-F1CE-80AE-3164-E45E99473FB4</td>\n",
       "      <td>64.813800</td>\n",
       "      <td>2015-12-13 17:06:10.750000000</td>\n",
       "      <td>51.491040</td>\n",
       "      <td>2015-12-14 12:25:12.056000000</td>\n",
       "      <td>41.932832</td>\n",
       "      <td>2015-12-29 14:25:22.594000000</td>\n",
       "      <td>36.929549</td>\n",
       "      <td>2015-12-28 01:29:55.901000000</td>\n",
       "      <td>33.236594</td>\n",
       "      <td>2015-12-29 14:46:06.628000000</td>\n",
       "      <td>33.236594</td>\n",
       "      <td>2016-01-05 01:06:59.546000000</td>\n",
       "    </tr>\n",
       "  </tbody>\n",
       "</table>\n",
       "</div>"
      ],
      "text/plain": [
       "                             student_id  assignment1_grade  \\\n",
       "0  B73F2C11-70F0-E37D-8B10-1D20AFED50B1          92.733946   \n",
       "1  98A0FAE0-A19A-13D2-4BB5-CFBFD94031D1          86.790821   \n",
       "2  D0F62040-CEB0-904C-F563-2F8620916C4E          85.512541   \n",
       "3  FFDF2B2C-F514-EF7F-6538-A6A53518E9DC          86.030665   \n",
       "4  5ECBEEB6-F1CE-80AE-3164-E45E99473FB4          64.813800   \n",
       "\n",
       "          assignment1_submission  assignment2_grade  \\\n",
       "0  2015-11-02 06:55:34.282000000          83.030552   \n",
       "1  2015-11-29 14:57:44.429000000          86.290821   \n",
       "2  2016-01-09 05:36:02.389000000          85.512541   \n",
       "3  2016-04-30 06:50:39.801000000          68.824532   \n",
       "4  2015-12-13 17:06:10.750000000          51.491040   \n",
       "\n",
       "          assignment2_submission  assignment3_grade  \\\n",
       "0  2015-11-09 02:22:58.938000000          67.164441   \n",
       "1  2015-12-06 17:41:18.449000000          69.772657   \n",
       "2  2016-01-09 06:39:44.416000000          68.410033   \n",
       "3  2016-04-30 17:20:38.727000000          61.942079   \n",
       "4  2015-12-14 12:25:12.056000000          41.932832   \n",
       "\n",
       "          assignment3_submission  assignment4_grade  \\\n",
       "0  2015-11-12 08:58:33.998000000          53.011553   \n",
       "1  2015-12-10 08:54:55.904000000          55.098125   \n",
       "2  2016-01-15 20:22:45.882000000          54.728026   \n",
       "3  2016-05-12 07:47:16.326000000          49.553663   \n",
       "4  2015-12-29 14:25:22.594000000          36.929549   \n",
       "\n",
       "          assignment4_submission  assignment5_grade  \\\n",
       "0  2015-11-16 01:21:24.663000000          47.710398   \n",
       "1  2015-12-13 17:32:30.941000000          49.588313   \n",
       "2  2016-01-11 12:41:50.749000000          49.255224   \n",
       "3  2016-05-07 16:09:20.485000000          49.553663   \n",
       "4  2015-12-28 01:29:55.901000000          33.236594   \n",
       "\n",
       "          assignment5_submission  assignment6_grade  \\\n",
       "0  2015-11-20 13:24:59.692000000          38.168318   \n",
       "1  2015-12-19 23:26:39.285000000          44.629482   \n",
       "2  2016-01-11 17:31:12.489000000          44.329701   \n",
       "3  2016-05-24 12:51:18.016000000          44.598297   \n",
       "4  2015-12-29 14:46:06.628000000          33.236594   \n",
       "\n",
       "          assignment6_submission  \n",
       "0  2015-11-22 18:31:15.934000000  \n",
       "1  2015-12-21 17:07:24.275000000  \n",
       "2  2016-01-17 16:24:42.765000000  \n",
       "3  2016-05-26 08:09:12.058000000  \n",
       "4  2016-01-05 01:06:59.546000000  "
      ]
     },
     "execution_count": 12,
     "metadata": {},
     "output_type": "execute_result"
    }
   ],
   "source": [
    "df = pd.read_csv('grades.csv')\n",
    "df.head()"
   ]
  },
  {
   "cell_type": "code",
   "execution_count": 13,
   "metadata": {},
   "outputs": [
    {
     "data": {
      "text/plain": [
       "2315"
      ]
     },
     "execution_count": 13,
     "metadata": {},
     "output_type": "execute_result"
    }
   ],
   "source": [
    "len(df)"
   ]
  },
  {
   "cell_type": "code",
   "execution_count": 14,
   "metadata": {},
   "outputs": [],
   "source": [
    "early = df[df['assignment1_submission'] <= '2015-12-31']\n",
    "late = df[df['assignment1_submission'] > '2015-12-31']"
   ]
  },
  {
   "cell_type": "code",
   "execution_count": 15,
   "metadata": {},
   "outputs": [
    {
     "data": {
      "text/plain": [
       "assignment1_grade    74.972741\n",
       "assignment2_grade    67.252190\n",
       "assignment3_grade    61.129050\n",
       "assignment4_grade    54.157620\n",
       "assignment5_grade    48.634643\n",
       "assignment6_grade    43.838980\n",
       "dtype: float64"
      ]
     },
     "execution_count": 15,
     "metadata": {},
     "output_type": "execute_result"
    }
   ],
   "source": [
    "early.mean()"
   ]
  },
  {
   "cell_type": "code",
   "execution_count": 16,
   "metadata": {},
   "outputs": [
    {
     "data": {
      "text/plain": [
       "assignment1_grade    74.017429\n",
       "assignment2_grade    66.370822\n",
       "assignment3_grade    60.023244\n",
       "assignment4_grade    54.058138\n",
       "assignment5_grade    48.599402\n",
       "assignment6_grade    43.844384\n",
       "dtype: float64"
      ]
     },
     "execution_count": 16,
     "metadata": {},
     "output_type": "execute_result"
    }
   ],
   "source": [
    "late.mean()"
   ]
  },
  {
   "cell_type": "code",
   "execution_count": 17,
   "metadata": {},
   "outputs": [],
   "source": [
    "\n",
    "stats.ttest_ind?"
   ]
  },
  {
   "cell_type": "code",
   "execution_count": 18,
   "metadata": {},
   "outputs": [
    {
     "data": {
      "text/plain": [
       "Ttest_indResult(statistic=1.400549944897566, pvalue=0.16148283016060577)"
      ]
     },
     "execution_count": 18,
     "metadata": {},
     "output_type": "execute_result"
    }
   ],
   "source": [
    "stats.ttest_ind(early['assignment1_grade'], late['assignment1_grade'])"
   ]
  },
  {
   "cell_type": "code",
   "execution_count": 19,
   "metadata": {},
   "outputs": [
    {
     "data": {
      "text/plain": [
       "Ttest_indResult(statistic=1.3239868220912567, pvalue=0.18563824610067964)"
      ]
     },
     "execution_count": 19,
     "metadata": {},
     "output_type": "execute_result"
    }
   ],
   "source": [
    "stats.ttest_ind(early['assignment2_grade'], late['assignment2_grade'])"
   ]
  },
  {
   "cell_type": "code",
   "execution_count": 20,
   "metadata": {},
   "outputs": [
    {
     "data": {
      "text/plain": [
       "Ttest_indResult(statistic=1.7116160037010733, pvalue=0.08710151634155668)"
      ]
     },
     "execution_count": 20,
     "metadata": {},
     "output_type": "execute_result"
    }
   ],
   "source": [
    "stats.ttest_ind(early['assignment3_grade'], late['assignment3_grade'])"
   ]
  },
  {
   "cell_type": "code",
   "execution_count": null,
   "metadata": {},
   "outputs": [],
   "source": []
  }
 ],
 "metadata": {
  "kernelspec": {
   "display_name": "Python 3",
   "language": "python",
   "name": "python3"
  },
  "language_info": {
   "codemirror_mode": {
    "name": "ipython",
    "version": 3
   },
   "file_extension": ".py",
   "mimetype": "text/x-python",
   "name": "python",
   "nbconvert_exporter": "python",
   "pygments_lexer": "ipython3",
   "version": "3.6.4"
  }
 },
 "nbformat": 4,
 "nbformat_minor": 2
}
