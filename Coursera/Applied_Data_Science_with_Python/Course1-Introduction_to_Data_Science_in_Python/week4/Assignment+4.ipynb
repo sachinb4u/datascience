{
 "cells": [
  {
   "cell_type": "markdown",
   "metadata": {},
   "source": [
    "---\n",
    "\n",
    "_You are currently looking at **version 1.1** of this notebook. To download notebooks and datafiles, as well as get help on Jupyter notebooks in the Coursera platform, visit the [Jupyter Notebook FAQ](https://www.coursera.org/learn/python-data-analysis/resources/0dhYG) course resource._\n",
    "\n",
    "---"
   ]
  },
  {
   "cell_type": "code",
   "execution_count": 6,
   "metadata": {},
   "outputs": [],
   "source": [
    "import pandas as pd\n",
    "import numpy as np\n",
    "from scipy.stats import ttest_ind\n",
    "import re"
   ]
  },
  {
   "cell_type": "markdown",
   "metadata": {},
   "source": [
    "# Assignment 4 - Hypothesis Testing\n",
    "This assignment requires more individual learning than previous assignments - you are encouraged to check out the [pandas documentation](http://pandas.pydata.org/pandas-docs/stable/) to find functions or methods you might not have used yet, or ask questions on [Stack Overflow](http://stackoverflow.com/) and tag them as pandas and python related. And of course, the discussion forums are open for interaction with your peers and the course staff.\n",
    "\n",
    "Definitions:\n",
    "* A _quarter_ is a specific three month period, Q1 is January through March, Q2 is April through June, Q3 is July through September, Q4 is October through December.\n",
    "* A _recession_ is defined as starting with two consecutive quarters of GDP decline, and ending with two consecutive quarters of GDP growth.\n",
    "* A _recession bottom_ is the quarter within a recession which had the lowest GDP.\n",
    "* A _university town_ is a city which has a high percentage of university students compared to the total population of the city.\n",
    "\n",
    "**Hypothesis**: University towns have their mean housing prices less effected by recessions. Run a t-test to compare the ratio of the mean price of houses in university towns the quarter before the recession starts compared to the recession bottom. (`price_ratio=quarter_before_recession/recession_bottom`)\n",
    "\n",
    "The following data files are available for this assignment:\n",
    "* From the [Zillow research data site](http://www.zillow.com/research/data/) there is housing data for the United States. In particular the datafile for [all homes at a city level](http://files.zillowstatic.com/research/public/City/City_Zhvi_AllHomes.csv), ```City_Zhvi_AllHomes.csv```, has median home sale prices at a fine grained level.\n",
    "* From the Wikipedia page on college towns is a list of [university towns in the United States](https://en.wikipedia.org/wiki/List_of_college_towns#College_towns_in_the_United_States) which has been copy and pasted into the file ```university_towns.txt```.\n",
    "* From Bureau of Economic Analysis, US Department of Commerce, the [GDP over time](http://www.bea.gov/national/index.htm#gdp) of the United States in current dollars (use the chained value in 2009 dollars), in quarterly intervals, in the file ```gdplev.xls```. For this assignment, only look at GDP data from the first quarter of 2000 onward.\n",
    "\n",
    "Each function in this assignment below is worth 10%, with the exception of ```run_ttest()```, which is worth 50%."
   ]
  },
  {
   "cell_type": "code",
   "execution_count": null,
   "metadata": {},
   "outputs": [],
   "source": [
    "# Use this dictionary to map state names to two letter acronyms\n",
    "states = {'OH': 'Ohio', 'KY': 'Kentucky', 'AS': 'American Samoa', 'NV': 'Nevada', 'WY': 'Wyoming', 'NA': 'National', 'AL': 'Alabama', 'MD': 'Maryland', 'AK': 'Alaska', 'UT': 'Utah', 'OR': 'Oregon', 'MT': 'Montana', 'IL': 'Illinois', 'TN': 'Tennessee', 'DC': 'District of Columbia', 'VT': 'Vermont', 'ID': 'Idaho', 'AR': 'Arkansas', 'ME': 'Maine', 'WA': 'Washington', 'HI': 'Hawaii', 'WI': 'Wisconsin', 'MI': 'Michigan', 'IN': 'Indiana', 'NJ': 'New Jersey', 'AZ': 'Arizona', 'GU': 'Guam', 'MS': 'Mississippi', 'PR': 'Puerto Rico', 'NC': 'North Carolina', 'TX': 'Texas', 'SD': 'South Dakota', 'MP': 'Northern Mariana Islands', 'IA': 'Iowa', 'MO': 'Missouri', 'CT': 'Connecticut', 'WV': 'West Virginia', 'SC': 'South Carolina', 'LA': 'Louisiana', 'KS': 'Kansas', 'NY': 'New York', 'NE': 'Nebraska', 'OK': 'Oklahoma', 'FL': 'Florida', 'CA': 'California', 'CO': 'Colorado', 'PA': 'Pennsylvania', 'DE': 'Delaware', 'NM': 'New Mexico', 'RI': 'Rhode Island', 'MN': 'Minnesota', 'VI': 'Virgin Islands', 'NH': 'New Hampshire', 'MA': 'Massachusetts', 'GA': 'Georgia', 'ND': 'North Dakota', 'VA': 'Virginia'}"
   ]
  },
  {
   "cell_type": "code",
   "execution_count": 45,
   "metadata": {},
   "outputs": [
    {
     "name": "stdout",
     "output_type": "stream",
     "text": [
      "State : Alabama, region = \n",
      "State : Alabama, region = Auburn\n",
      "State : Alabama, region = Florence\n",
      "State : Alabama, region = Jacksonville\n",
      "State : Alabama, region = Livingston\n",
      "State : Alabama, region = Montevallo\n",
      "State : Alabama, region = Troy\n",
      "State : Alabama, region = Tuscaloosa\n",
      "State : Alabama, region = Tuskegee\n",
      "State : Alaska, region = Tuskegee\n",
      "State : Alaska, region = Fairbanks\n",
      "State : Arizona, region = Fairbanks\n",
      "State : Arizona, region = Flagstaff\n",
      "State : Arizona, region = Tempe\n",
      "State : Arizona, region = Tucson\n",
      "State : Arkansas, region = Tucson\n",
      "State : Arkansas, region = Arkadelphia\n",
      "State : Arkansas, region = Conway\n",
      "State : Arkansas, region = Fayetteville\n",
      "State : Arkansas, region = Jonesboro\n",
      "State : Arkansas, region = Magnolia\n",
      "State : Arkansas, region = Monticello\n",
      "State : Arkansas, region = Russellville\n",
      "State : Arkansas, region = Searcy\n",
      "State : California, region = Searcy\n",
      "State : California, region = Angwin\n",
      "State : California, region = Arcata\n",
      "State : California, region = Berkeley\n",
      "State : California, region = Chico\n",
      "State : California, region = Claremont\n",
      "State : California, region = Cotati\n",
      "State : California, region = Davis\n",
      "State : California, region = Irvine\n",
      "State : California, region = Isla Vista\n",
      "State : California, region = University Park, Los Angeles\n",
      "State : California, region = Merced\n",
      "State : California, region = Orange\n",
      "State : California, region = Palo Alto\n",
      "State : California, region = Pomona\n",
      "State : California, region = Redlands\n",
      "State : California, region = Riverside\n",
      "State : California, region = Sacramento\n",
      "State : California, region = University District, San Bernardino\n",
      "State : California, region = San Diego\n",
      "State : California, region = San Luis Obispo\n",
      "State : California, region = Santa Barbara\n",
      "State : California, region = Santa Cruz\n",
      "State : California, region = Turlock\n",
      "State : California, region = Westwood, Los Angeles\n",
      "State : California, region = Whittier\n",
      "State : Colorado, region = Whittier\n",
      "State : Colorado, region = Alamosa\n",
      "State : Colorado, region = Boulder\n",
      "State : Colorado, region = Durango\n",
      "State : Colorado, region = Fort Collins\n",
      "State : Colorado, region = Golden\n",
      "State : Colorado, region = Grand Junction\n",
      "State : Colorado, region = Greeley\n",
      "State : Colorado, region = Gunnison\n",
      "State : Colorado, region = Pueblo, Colorado\n",
      "State : Connecticut, region = Pueblo, Colorado\n",
      "State : Connecticut, region = Fairfield\n",
      "State : Connecticut, region = Middletown\n",
      "State : Connecticut, region = New Britain\n",
      "State : Connecticut, region = New Haven\n",
      "State : Connecticut, region = New London\n",
      "State : Connecticut, region = Storrs\n",
      "State : Connecticut, region = Willimantic\n",
      "State : Delaware, region = Willimantic\n",
      "State : Delaware, region = Dover\n",
      "State : Delaware, region = Newark\n",
      "State : Florida, region = Newark\n",
      "State : Florida, region = Ave Maria\n",
      "State : Florida, region = Boca Raton\n",
      "State : Florida, region = Coral Gables\n",
      "State : Florida, region = DeLand\n",
      "State : Florida, region = Estero\n",
      "State : Florida, region = Gainesville\n",
      "State : Florida, region = Orlando\n",
      "State : Florida, region = Sarasota\n",
      "State : Florida, region = St. Augustine\n",
      "State : Florida, region = St. Leo\n",
      "State : Florida, region = Tallahassee\n",
      "State : Florida, region = Tampa\n",
      "State : Georgia, region = Tampa\n",
      "State : Georgia, region = Albany\n",
      "State : Georgia, region = Athens\n",
      "State : Georgia, region = Atlanta\n",
      "State : Georgia, region = Carrollton\n",
      "State : Georgia, region = Demorest\n",
      "State : Georgia, region = Fort Valley\n",
      "State : Georgia, region = Kennesaw\n",
      "State : Georgia, region = Milledgeville\n",
      "State : Georgia, region = Mount Vernon\n",
      "State : Georgia, region = Oxford\n",
      "State : Georgia, region = Rome\n",
      "State : Georgia, region = Savannah\n",
      "State : Georgia, region = Statesboro\n",
      "State : Georgia, region = Valdosta\n",
      "State : Georgia, region = Waleska\n",
      "State : Georgia, region = Young Harris\n",
      "State : Hawaii, region = Young Harris\n",
      "State : Hawaii, region = Manoa\n",
      "State : Idaho, region = Manoa\n",
      "State : Idaho, region = Moscow\n",
      "State : Idaho, region = Pocatello\n",
      "State : Idaho, region = Rexburg\n",
      "State : Illinois, region = Rexburg\n",
      "State : Illinois, region = Carbondale\n"
     ]
    },
    {
     "ename": "AttributeError",
     "evalue": "'NoneType' object has no attribute 'group'",
     "output_type": "error",
     "traceback": [
      "\u001b[1;31m---------------------------------------------------------------------------\u001b[0m",
      "\u001b[1;31mAttributeError\u001b[0m                            Traceback (most recent call last)",
      "\u001b[1;32m<ipython-input-45-e65bddf048cd>\u001b[0m in \u001b[0;36m<module>\u001b[1;34m()\u001b[0m\n\u001b[0;32m      9\u001b[0m     \u001b[1;32mif\u001b[0m \u001b[0mstate_match\u001b[0m \u001b[1;33m==\u001b[0m \u001b[1;32mNone\u001b[0m\u001b[1;33m:\u001b[0m\u001b[1;33m\u001b[0m\u001b[0m\n\u001b[0;32m     10\u001b[0m         \u001b[0mregion_match\u001b[0m \u001b[1;33m=\u001b[0m \u001b[0mre\u001b[0m\u001b[1;33m.\u001b[0m\u001b[0mmatch\u001b[0m\u001b[1;33m(\u001b[0m\u001b[0mregion_pattern\u001b[0m\u001b[1;33m,\u001b[0m \u001b[0mline\u001b[0m\u001b[1;33m)\u001b[0m\u001b[1;33m\u001b[0m\u001b[0m\n\u001b[1;32m---> 11\u001b[1;33m         \u001b[0mregion\u001b[0m \u001b[1;33m=\u001b[0m \u001b[0mregion_match\u001b[0m\u001b[1;33m.\u001b[0m\u001b[0mgroup\u001b[0m\u001b[1;33m(\u001b[0m\u001b[1;36m1\u001b[0m\u001b[1;33m)\u001b[0m\u001b[1;33m\u001b[0m\u001b[0m\n\u001b[0m\u001b[0;32m     12\u001b[0m     \u001b[1;32melse\u001b[0m\u001b[1;33m:\u001b[0m\u001b[1;33m\u001b[0m\u001b[0m\n\u001b[0;32m     13\u001b[0m         \u001b[0mstate\u001b[0m \u001b[1;33m=\u001b[0m \u001b[0mstate_match\u001b[0m\u001b[1;33m.\u001b[0m\u001b[0mgroup\u001b[0m\u001b[1;33m(\u001b[0m\u001b[1;36m1\u001b[0m\u001b[1;33m)\u001b[0m\u001b[1;33m\u001b[0m\u001b[0m\n",
      "\u001b[1;31mAttributeError\u001b[0m: 'NoneType' object has no attribute 'group'"
     ]
    }
   ],
   "source": [
    "# states\n",
    "lines = [line.rstrip('\\n') for line in open('university_towns.txt')]\n",
    "state = ''\n",
    "region = ''\n",
    "state_pattern = r'([\\w]+)\\[edit\\]'\n",
    "region_pattern = r'([\\w ,\\.\\-]+) \\(.*'\n",
    "for line in lines:\n",
    "    state_match = re.match(state_pattern, line)\n",
    "    if state_match == None:\n",
    "        region_match = re.match(region_pattern, line)\n",
    "        region = region_match.group(1)\n",
    "    else:\n",
    "        state = state_match.group(1)\n",
    "        \n",
    "    print('State : ' + state + ', region = ' + region)\n",
    "    \n",
    "    \n",
    "# lines[:10]\n"
   ]
  },
  {
   "cell_type": "code",
   "execution_count": 50,
   "metadata": {},
   "outputs": [
    {
     "data": {
      "text/plain": [
       "['Crookston (University of Minnesota Crookston)', '2]']"
      ]
     },
     "execution_count": 50,
     "metadata": {},
     "output_type": "execute_result"
    }
   ],
   "source": [
    "# state_pattern = r'([\\w]+)\\[edit\\]'\n",
    "# m = re.match(state_pattern, 'Minnesota[') \n",
    "# if m == None:\n",
    "#     print('no match')\n",
    "# else:\n",
    "#     print(m.group(1))\n",
    "\n",
    "re.split('\\[', 'Crookston (University of Minnesota Crookston)[2]')"
   ]
  },
  {
   "cell_type": "code",
   "execution_count": 47,
   "metadata": {},
   "outputs": [
    {
     "data": {
      "text/plain": [
       "['Crookston', 'University of Minnesota Crookston)[2]']"
      ]
     },
     "execution_count": 47,
     "metadata": {},
     "output_type": "execute_result"
    }
   ],
   "source": [
    "# region_pattern = r'([\\w]+) \\(.*\\)'\n",
    "\n",
    "# region_match = re.match(region_pattern, 'Crookston (University of Minnesota Crookston)[2]')\n",
    "# region_match.groups()\n",
    "\n",
    "re.split(' \\(', 'Crookston (University of Minnesota Crookston)[2]')"
   ]
  },
  {
   "cell_type": "code",
   "execution_count": null,
   "metadata": {},
   "outputs": [],
   "source": [
    "def get_list_of_university_towns():\n",
    "    '''Returns a DataFrame of towns and the states they are in from the \n",
    "    university_towns.txt list. The format of the DataFrame should be:\n",
    "    DataFrame( [ [\"Michigan\", \"Ann Arbor\"], [\"Michigan\", \"Yipsilanti\"] ], \n",
    "    columns=[\"State\", \"RegionName\"]  )\n",
    "    \n",
    "    The following cleaning needs to be done:\n",
    "\n",
    "    1. For \"State\", removing characters from \"[\" to the end.\n",
    "    2. For \"RegionName\", when applicable, removing every character from \" (\" to the end.\n",
    "    3. Depending on how you read the data, you may need to remove newline character '\\n'. '''\n",
    "    \n",
    "    return \"ANSWER\""
   ]
  },
  {
   "cell_type": "code",
   "execution_count": null,
   "metadata": {},
   "outputs": [],
   "source": [
    "def get_recession_start():\n",
    "    '''Returns the year and quarter of the recession start time as a \n",
    "    string value in a format such as 2005q3'''\n",
    "    \n",
    "    return \"ANSWER\""
   ]
  },
  {
   "cell_type": "code",
   "execution_count": null,
   "metadata": {},
   "outputs": [],
   "source": [
    "def get_recession_end():\n",
    "    '''Returns the year and quarter of the recession end time as a \n",
    "    string value in a format such as 2005q3'''\n",
    "       \n",
    "    return \"ANSWER\""
   ]
  },
  {
   "cell_type": "code",
   "execution_count": null,
   "metadata": {},
   "outputs": [],
   "source": [
    "def get_recession_bottom():\n",
    "    '''Returns the year and quarter of the recession bottom time as a \n",
    "    string value in a format such as 2005q3'''\n",
    "    \n",
    "    return \"ANSWER\""
   ]
  },
  {
   "cell_type": "code",
   "execution_count": null,
   "metadata": {},
   "outputs": [],
   "source": [
    "def convert_housing_data_to_quarters():\n",
    "    '''Converts the housing data to quarters and returns it as mean \n",
    "    values in a dataframe. This dataframe should be a dataframe with\n",
    "    columns for 2000q1 through 2016q3, and should have a multi-index\n",
    "    in the shape of [\"State\",\"RegionName\"].\n",
    "    \n",
    "    Note: Quarters are defined in the assignment description, they are\n",
    "    not arbitrary three month periods.\n",
    "    \n",
    "    The resulting dataframe should have 67 columns, and 10,730 rows.\n",
    "    '''\n",
    "    \n",
    "    return \"ANSWER\""
   ]
  },
  {
   "cell_type": "code",
   "execution_count": null,
   "metadata": {},
   "outputs": [],
   "source": [
    "def run_ttest():\n",
    "    '''First creates new data showing the decline or growth of housing prices\n",
    "    between the recession start and the recession bottom. Then runs a ttest\n",
    "    comparing the university town values to the non-university towns values, \n",
    "    return whether the alternative hypothesis (that the two groups are the same)\n",
    "    is true or not as well as the p-value of the confidence. \n",
    "    \n",
    "    Return the tuple (different, p, better) where different=True if the t-test is\n",
    "    True at a p<0.01 (we reject the null hypothesis), or different=False if \n",
    "    otherwise (we cannot reject the null hypothesis). The variable p should\n",
    "    be equal to the exact p value returned from scipy.stats.ttest_ind(). The\n",
    "    value for better should be either \"university town\" or \"non-university town\"\n",
    "    depending on which has a lower mean price ratio (which is equivilent to a\n",
    "    reduced market loss).'''\n",
    "    \n",
    "    return \"ANSWER\""
   ]
  }
 ],
 "metadata": {
  "coursera": {
   "course_slug": "python-data-analysis",
   "graded_item_id": "Il9Fx",
   "launcher_item_id": "TeDW0",
   "part_id": "WGlun"
  },
  "kernelspec": {
   "display_name": "Python 3",
   "language": "python",
   "name": "python3"
  },
  "language_info": {
   "codemirror_mode": {
    "name": "ipython",
    "version": 3
   },
   "file_extension": ".py",
   "mimetype": "text/x-python",
   "name": "python",
   "nbconvert_exporter": "python",
   "pygments_lexer": "ipython3",
   "version": "3.6.4"
  }
 },
 "nbformat": 4,
 "nbformat_minor": 1
}
