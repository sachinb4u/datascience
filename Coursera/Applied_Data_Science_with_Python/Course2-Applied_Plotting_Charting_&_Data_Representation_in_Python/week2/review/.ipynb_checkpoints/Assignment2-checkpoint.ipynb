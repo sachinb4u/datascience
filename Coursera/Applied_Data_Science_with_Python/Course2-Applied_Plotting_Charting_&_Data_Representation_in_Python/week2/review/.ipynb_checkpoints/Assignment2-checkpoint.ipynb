{
 "cells": [
  {
   "cell_type": "markdown",
   "metadata": {},
   "source": [
    "# Assignment 2\n",
    "\n",
    "Before working on this assignment please read these instructions fully. In the submission area, you will notice that you can click the link to **Preview the Grading** for each step of the assignment. This is the criteria that will be used for peer grading. Please familiarize yourself with the criteria before beginning the assignment.\n",
    "\n",
    "An NOAA dataset has been stored in the file `data/C2A2_data/BinnedCsvs_d400/fb441e62df2d58994928907a91895ec62c2c42e6cd075c2700843b89.csv`. The data for this assignment comes from a subset of The National Centers for Environmental Information (NCEI) [Daily Global Historical Climatology Network](https://www1.ncdc.noaa.gov/pub/data/ghcn/daily/readme.txt) (GHCN-Daily). The GHCN-Daily is comprised of daily climate records from thousands of land surface stations across the globe.\n",
    "\n",
    "Each row in the assignment datafile corresponds to a single observation.\n",
    "\n",
    "The following variables are provided to you:\n",
    "\n",
    "* **id** : station identification code\n",
    "* **date** : date in YYYY-MM-DD format (e.g. 2012-01-24 = January 24, 2012)\n",
    "* **element** : indicator of element type\n",
    "    * TMAX : Maximum temperature (tenths of degrees C)\n",
    "    * TMIN : Minimum temperature (tenths of degrees C)\n",
    "* **value** : data value for element (tenths of degrees C)\n",
    "\n",
    "For this assignment, you must:\n",
    "\n",
    "1. Read the documentation and familiarize yourself with the dataset, then write some python code which returns a line graph of the record high and record low temperatures by day of the year over the period 2005-2014. The area between the record high and record low temperatures for each day should be shaded.\n",
    "2. Overlay a scatter of the 2015 data for any points (highs and lows) for which the ten year record (2005-2014) record high or record low was broken in 2015.\n",
    "3. Watch out for leap days (i.e. February 29th), it is reasonable to remove these points from the dataset for the purpose of this visualization.\n",
    "4. Make the visual nice! Leverage principles from the first module in this course when developing your solution. Consider issues such as legends, labels, and chart junk.\n",
    "\n",
    "The data you have been given is near **Ann Arbor, Michigan, United States**, and the stations the data comes from are shown on the map below."
   ]
  },
  {
   "cell_type": "code",
   "execution_count": 2,
   "metadata": {},
   "outputs": [
    {
     "ename": "ModuleNotFoundError",
     "evalue": "No module named 'mplleaflet'",
     "output_type": "error",
     "traceback": [
      "\u001b[1;31m---------------------------------------------------------------------------\u001b[0m",
      "\u001b[1;31mModuleNotFoundError\u001b[0m                       Traceback (most recent call last)",
      "\u001b[1;32m<ipython-input-2-315f210fa03f>\u001b[0m in \u001b[0;36m<module>\u001b[1;34m()\u001b[0m\n\u001b[0;32m      1\u001b[0m \u001b[1;32mimport\u001b[0m \u001b[0mmatplotlib\u001b[0m\u001b[1;33m.\u001b[0m\u001b[0mpyplot\u001b[0m \u001b[1;32mas\u001b[0m \u001b[0mplt\u001b[0m\u001b[1;33m\u001b[0m\u001b[0m\n\u001b[1;32m----> 2\u001b[1;33m \u001b[1;32mimport\u001b[0m \u001b[0mmplleaflet\u001b[0m\u001b[1;33m\u001b[0m\u001b[0m\n\u001b[0m\u001b[0;32m      3\u001b[0m \u001b[1;32mimport\u001b[0m \u001b[0mpandas\u001b[0m \u001b[1;32mas\u001b[0m \u001b[0mpd\u001b[0m\u001b[1;33m\u001b[0m\u001b[0m\n\u001b[0;32m      4\u001b[0m \u001b[1;33m\u001b[0m\u001b[0m\n\u001b[0;32m      5\u001b[0m \u001b[1;32mdef\u001b[0m \u001b[0mleaflet_plot_stations\u001b[0m\u001b[1;33m(\u001b[0m\u001b[0mbinsize\u001b[0m\u001b[1;33m,\u001b[0m \u001b[0mhashid\u001b[0m\u001b[1;33m)\u001b[0m\u001b[1;33m:\u001b[0m\u001b[1;33m\u001b[0m\u001b[0m\n",
      "\u001b[1;31mModuleNotFoundError\u001b[0m: No module named 'mplleaflet'"
     ]
    }
   ],
   "source": [
    "import matplotlib.pyplot as plt\n",
    "import mplleaflet\n",
    "import pandas as pd\n",
    "\n",
    "def leaflet_plot_stations(binsize, hashid):\n",
    "\n",
    "    df = pd.read_csv('data/C2A2_data/BinSize_d{}.csv'.format(binsize))\n",
    "\n",
    "    station_locations_by_hash = df[df['hash'] == hashid]\n",
    "\n",
    "    lons = station_locations_by_hash['LONGITUDE'].tolist()\n",
    "    lats = station_locations_by_hash['LATITUDE'].tolist()\n",
    "\n",
    "    plt.figure(figsize=(8,8))\n",
    "\n",
    "    plt.scatter(lons, lats, c='r', alpha=0.7, s=200)\n",
    "\n",
    "    return mplleaflet.display()\n",
    "\n",
    "leaflet_plot_stations(400,'fb441e62df2d58994928907a91895ec62c2c42e6cd075c2700843b89')"
   ]
  },
  {
   "cell_type": "code",
   "execution_count": 1,
   "metadata": {},
   "outputs": [
    {
     "ename": "NameError",
     "evalue": "name 'pd' is not defined",
     "output_type": "error",
     "traceback": [
      "\u001b[1;31m---------------------------------------------------------------------------\u001b[0m",
      "\u001b[1;31mNameError\u001b[0m                                 Traceback (most recent call last)",
      "\u001b[1;32m<ipython-input-1-014068851445>\u001b[0m in \u001b[0;36m<module>\u001b[1;34m()\u001b[0m\n\u001b[0;32m      3\u001b[0m \u001b[1;32mfrom\u001b[0m \u001b[0mmatplotlib\u001b[0m \u001b[1;32mimport\u001b[0m \u001b[0mdates\u001b[0m\u001b[1;33m\u001b[0m\u001b[0m\n\u001b[0;32m      4\u001b[0m \u001b[1;33m\u001b[0m\u001b[0m\n\u001b[1;32m----> 5\u001b[1;33m \u001b[0mdf_source\u001b[0m \u001b[1;33m=\u001b[0m \u001b[0mpd\u001b[0m\u001b[1;33m.\u001b[0m\u001b[0mread_csv\u001b[0m\u001b[1;33m(\u001b[0m\u001b[1;34m'data/C2A2_data/BinnedCsvs_d400/fb441e62df2d58994928907a91895ec62c2c42e6cd075c2700843b89.csv'\u001b[0m\u001b[1;33m)\u001b[0m\u001b[1;33m\u001b[0m\u001b[0m\n\u001b[0m\u001b[0;32m      6\u001b[0m \u001b[1;33m\u001b[0m\u001b[0m\n\u001b[0;32m      7\u001b[0m \u001b[1;34m\"\"\" Define a few constants that help transforming stuff later on \"\"\"\u001b[0m\u001b[1;33m\u001b[0m\u001b[0m\n",
      "\u001b[1;31mNameError\u001b[0m: name 'pd' is not defined"
     ]
    }
   ],
   "source": [
    "%matplotlib notebook\n",
    "import datetime\n",
    "from matplotlib import dates\n",
    "\n",
    "df_source = pd.read_csv('data/C2A2_data/BinnedCsvs_d400/fb441e62df2d58994928907a91895ec62c2c42e6cd075c2700843b89.csv')\n",
    "\n",
    "\"\"\" Define a few constants that help transforming stuff later on \"\"\"\n",
    "startDate = datetime.date(2005,1,1)\n",
    "endDate = datetime.date(2014,12,31)\n",
    "date2015 = datetime.date(2015,1,1)\n",
    "date2016 = datetime.date(2016,1,1)\n",
    "\n",
    "\n",
    "\"\"\" Get Data for first plot - record data for the years 2005 - 2014, highest and lowest for each day of the month \"\"\"\n",
    "df = df_source\n",
    "df['Date'] = pd.to_datetime(df['Date'])\n",
    "df = df[(df['Date'] >= startDate) & (df['Date'] <= endDate) & ~((df['Date'].dt.day == 29) & (df['Date'].dt.month == 2))]\n",
    "df = df.sort_values(by=['Date', 'ID', 'Element'])\n",
    "df = df.set_index('Date')\n",
    "gdf = df.groupby([df.index.month, df.index.day])\n",
    "\n",
    "\"\"\" Generate labels for the first plot\"\"\"\n",
    "labels = list(gdf['Data_Value'].mean().index.map('{0[1]}/{0[0]}'.format))\n",
    "labels = dates.date2num([datetime.datetime.strptime(d, \"%d/%m\").replace(year=2017) for d in labels])\n",
    "\n",
    "\n",
    "\"\"\" Plot the min and max tempreatures for each day, filling in the space between \"\"\"\n",
    "plt.figure(figsize=(10, 6))\n",
    "plt.plot(labels, (gdf['Data_Value'].max()/10).tolist(), labels, (gdf['Data_Value'].min()/10).tolist())\n",
    "plt.gca().fill_between(labels\n",
    "                       , (gdf['Data_Value'].max()/10).tolist()\n",
    "                       , (gdf['Data_Value'].min()/10).tolist()\n",
    "                       , facecolor='lightgrey'\n",
    "                       , alpha=0.5\n",
    "                       , label='Temperature differential 2005-2014')\n",
    "hfmt = dates.DateFormatter('%b')\n",
    "plt.gca().xaxis.set_major_formatter(hfmt)\n",
    "plt.gca().xaxis.set_major_locator(dates.MonthLocator())\n",
    "\n",
    "\n",
    "\"\"\" Get Data for the year 2015, combine it with the old data and find all occurences where the temperature in 2015 \n",
    "is higher or lower than in the previous years \"\"\"\n",
    "df_2015 = df_source[(df_source['Date'] >= date2015) & (df_source['Date'] < date2016)]\n",
    "df_2015 = df_2015.sort_values(by=['Date', 'ID', 'Element'])\n",
    "df_2015 = df_2015.set_index('Date')\n",
    "gdf_2015 = df_2015.groupby([df_2015.index.month, df_2015.index.day])\n",
    "\n",
    "combinedValuesDf = pd.concat([gdf_2015['Data_Value'].max(), gdf_2015['Data_Value'].min(), gdf['Data_Value'].max(), gdf['Data_Value'].min()], axis = 1)\n",
    "combinedValuesDf.columns = ['max2015', 'min2015', 'maxRecord', 'minRecord']\n",
    "maxBrokenRecords = combinedValuesDf[combinedValuesDf['max2015'] > combinedValuesDf['maxRecord']].loc[:, ['max2015']]\n",
    "minBrokenRecords = combinedValuesDf[combinedValuesDf['min2015'] < combinedValuesDf['minRecord']].loc[:, ['min2015']]\n",
    "\n",
    "labelsMaxScatter = maxBrokenRecords.index.map('{0[1]}/{0[0]}'.format)\n",
    "labelsMaxScatter = dates.date2num([datetime.datetime.strptime(d, \"%d/%m\").replace(year=2017) for d in labelsMaxScatter])\n",
    "\n",
    "labelsMinScatter = minBrokenRecords.index.map('{0[1]}/{0[0]}'.format)\n",
    "labelsMinScatter = dates.date2num([datetime.datetime.strptime(d, \"%d/%m\").replace(year=2017) for d in labelsMinScatter])\n",
    "\n",
    "\"\"\" Generate two scatter plots where the temperature was higher/lower than in the prvious years \"\"\"\n",
    "plt.scatter(labelsMaxScatter, (maxBrokenRecords['max2015']/10).tolist(), c='red', label='Higher Temperatures in 2015')\n",
    "plt.scatter(labelsMinScatter, (minBrokenRecords['min2015']/10).tolist(), c='green', label='Lower Temperatures in 2015')\n",
    "\n",
    "\n",
    "\"\"\" Make the plot prettier \"\"\"\n",
    "xAxis = plt.gca().xaxis\n",
    "yAxis = plt.gca().yaxis\n",
    "plt.legend(loc=8 , frameon=False, title='Legend')\n",
    "plt.title('Temperature Highs and Lows between 2005 and 2014')\n",
    "for spine in plt.gca().spines.values():\n",
    "    spine.set_visible(False)\n",
    "    \n",
    "plt.gca().set_ylabel('Temperature in C°')\n",
    "    \n"
   ]
  },
  {
   "cell_type": "code",
   "execution_count": null,
   "metadata": {
    "collapsed": true
   },
   "outputs": [],
   "source": []
  },
  {
   "cell_type": "code",
   "execution_count": null,
   "metadata": {
    "collapsed": true
   },
   "outputs": [],
   "source": []
  }
 ],
 "metadata": {
  "kernelspec": {
   "display_name": "Python 3",
   "language": "python",
   "name": "python3"
  },
  "language_info": {
   "codemirror_mode": {
    "name": "ipython",
    "version": 3
   },
   "file_extension": ".py",
   "mimetype": "text/x-python",
   "name": "python",
   "nbconvert_exporter": "python",
   "pygments_lexer": "ipython3",
   "version": "3.6.4"
  }
 },
 "nbformat": 4,
 "nbformat_minor": 1
}
